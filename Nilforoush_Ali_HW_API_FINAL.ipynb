{
  "nbformat": 4,
  "nbformat_minor": 0,
  "metadata": {
    "colab": {
      "provenance": [],
      "authorship_tag": "ABX9TyP2cVvcXTC/sVgj57e8MTyQ",
      "include_colab_link": true
    },
    "kernelspec": {
      "name": "python3",
      "display_name": "Python 3"
    },
    "language_info": {
      "name": "python"
    }
  },
  "cells": [
    {
      "cell_type": "markdown",
      "metadata": {
        "id": "view-in-github",
        "colab_type": "text"
      },
      "source": [
        "<a href=\"https://colab.research.google.com/github/ali-rn/DS2002F24/blob/main/Nilforoush_Ali_HW_API_FINAL.ipynb\" target=\"_parent\"><img src=\"https://colab.research.google.com/assets/colab-badge.svg\" alt=\"Open In Colab\"/></a>"
      ]
    },
    {
      "cell_type": "markdown",
      "source": [
        "1. Takes user input for a stock (using the Ticker Symbol): IE with the input() command\n",
        "2. You will display back the user: Ticker Name, Full Name of the Stock, Current Market\n",
        "Price, Target Mean Price, 52 week high and 52 week low. Also, output 5 of the current\n",
        "trending stock.\n",
        "3. Put that data in a DataFrame and then store that to a CSV file\n",
        "4. Handle Errors (IE, the stock doesn’t exist and/or the API is not returning information)"
      ],
      "metadata": {
        "id": "xmhr6KQEF2gV"
      }
    },
    {
      "cell_type": "code",
      "execution_count": 1,
      "metadata": {
        "colab": {
          "base_uri": "https://localhost:8080/"
        },
        "id": "6fWEPeFdFxDg",
        "outputId": "442cf5ec-aff0-40c1-8acb-012300fd1fad"
      },
      "outputs": [
        {
          "name": "stdout",
          "output_type": "stream",
          "text": [
            "Insert ticker symbol of stock: AAPL\n"
          ]
        }
      ],
      "source": [
        "import json\n",
        "import pandas as pd\n",
        "import json\n",
        "import requests\n",
        "\n",
        "# 1. take user input for stock (using the Ticker Symbol):\n",
        "stock=input(\"Insert ticker symbol of stock: \")\n",
        "\n",
        "# 2. display back to user: Ticker Name, Full Name of the Stock, Current Market Price, Target Mean Price, 52 week high & low\n",
        "\n",
        "# output 5 of the current trending stock"
      ]
    }
  ]
}